{
 "cells": [
  {
   "cell_type": "markdown",
   "metadata": {},
   "source": [
    "Preparación de datos (1.5pt)\n",
    "\n",
    "    Explore el archivo covid19_confirmados.csv y configure la función read_csv de pandas para importarlo como un DataFrame.\n",
    "        Utilice el nombre de país como índice principal\n",
    "        Elimine las columnas Lat y Long\n",
    "        Use TimeStamps para los \"nombres de columna\" asociados a fechas\n",
    "        Reduzca la columna Province/State, el DataFrame resultante debe tener los totales a nivel país\n",
    "    Explore el archivo population_by_country_2020.csv y configure la función read_csv de pandas para importarlo como un DataFrame.\n",
    "        Utilice el nombre de país como índice principal. Algunos siglas o nombres podrían no calzar con el DataFrame anterior, modifíquelos manualmente o usando pandas.\n",
    "    Haga un merge de los DataFrame anteriores. El objetivo es asignar un valor de Population a cada elemento del primer DataFrame. Indique las filas donde no se puede realizar el merge y luego descártelas de su DataFrame final\n",
    "    Repita el procedimiento anterior para los archivos covid19_recuperados.csv y covid19_muertes.csv\n"
   ]
  },
  {
   "cell_type": "code",
   "execution_count": null,
   "metadata": {},
   "outputs": [],
   "source": [
    "# %matplotlib inline\n",
    "import matplotlib.pyplot as plt\n",
    "import numpy as np\n",
    "import pandas as pd\n",
    "import datetime as dt\n",
    "from __future__ import print_function\n",
    "from ipywidgets import interact, interactive, fixed, interact_manual\n",
    "import ipywidgets as widgets\n",
    "from IPython.display import YouTubeVideo, Markdown, SVG\n",
    "from functools import partial\n",
    "YouTubeVideo_formato = partial(YouTubeVideo, modestbranding=1, disablekb=0,\n",
    "                               width=640, height=360, autoplay=0, rel=0, showinfo=0)\n",
    "\n",
    "display(\"Versión de pandas \"+pd.__version__)\n",
    "pd.set_option(\"display.max_rows\", None, \"display.max_columns\", None)"
   ]
  },
  {
   "cell_type": "code",
   "execution_count": null,
   "metadata": {},
   "outputs": [],
   "source": [
    "cols = list(pd.read_csv(\"covid19_confirmados.csv\", nrows =1))\n",
    "cd = pd.read_csv(\"covid19_confirmados.csv\",\n",
    "            index_col = 'Country/Region' ,                             ## Asgina como indice \"Country/Region\"\n",
    "            usecols =[i for i in cols if (i != 'Long' and i != 'Lat')], ## Quitamos las columnas Long y Lat       \n",
    "            )"
   ]
  },
  {
   "cell_type": "code",
   "execution_count": null,
   "metadata": {},
   "outputs": [],
   "source": [
    "def listbody(A):\n",
    "            A.pop(0)\n",
    "            return A\n",
    "\n",
    "fechas = listbody(list(cd.columns.values))\n",
    "fechas_ts = []\n",
    "\n",
    "for i in fechas:\n",
    "        tiempoentimestamp = pd.to_datetime(i)\n",
    "        fechas_ts.append(tiempoentimestamp)\n",
    "        Diccionario_cambiolistas = dict(zip(fechas,fechas_ts))\n",
    "\n",
    "        \n",
    "cd2 = cd.rename(columns = Diccionario_cambiolistas,inplace = False)##si inplace =True\n",
    "\n"
   ]
  },
  {
   "cell_type": "code",
   "execution_count": null,
   "metadata": {},
   "outputs": [],
   "source": []
  },
  {
   "cell_type": "code",
   "execution_count": null,
   "metadata": {},
   "outputs": [],
   "source": [
    "covidC = cd2.groupby(by=\"Country/Region\").aggregate(sum) ## Reduce la columna Province/State y suma los valores que tenian la misma region\n",
    "covidC"
   ]
  },
  {
   "cell_type": "code",
   "execution_count": null,
   "metadata": {},
   "outputs": [],
   "source": [
    "cPoblacion = pd.read_csv(\"population_by_country_2020.csv\", index_col = 'Country/Region')"
   ]
  },
  {
   "cell_type": "code",
   "execution_count": null,
   "metadata": {
    "scrolled": true
   },
   "outputs": [],
   "source": [
    "confirmados = pd.merge(covidC,cPoblacion, on='Country/Region')\n",
    "confirmados\n",
    "\n",
    "##los paises que no se le pudieron hacer merge fueron:\n",
    "## (Korea, South), (West Bank and Gaza), (US), (Taiwan), (Sao Tome and Principe), (Saint Vincent and the Grenadines)\n",
    "## (MS Zaandam), (Kosovo), (Diamond Princess), (Czechia), (Congo (Kinshasa)), (Congo (Brazzaville)),(Burma)"
   ]
  },
  {
   "cell_type": "code",
   "execution_count": null,
   "metadata": {},
   "outputs": [],
   "source": [
    "cols = list(pd.read_csv(\"covid19_recuperados.csv\", nrows =1))\n",
    "cd = pd.read_csv(\"covid19_recuperados.csv\",\n",
    "            index_col = 'Country/Region' ,                             ## Asgina como indice \"Country/Region\"\n",
    "            usecols =[i for i in cols if (i != 'Long' and i != 'Lat')], ## Quitamos las columnas Long y Lat       \n",
    "            )"
   ]
  },
  {
   "cell_type": "code",
   "execution_count": null,
   "metadata": {},
   "outputs": [],
   "source": [
    "def listbody(A):\n",
    "            A.pop(0)\n",
    "            return A\n",
    "\n",
    "fechas = listbody(list(cd.columns.values))\n",
    "fechas_ts = []\n",
    "\n",
    "for i in fechas:\n",
    "        tiempoentimestamp = pd.to_datetime(i)\n",
    "        fechas_ts.append(tiempoentimestamp)\n",
    "        Diccionario_cambiolistas = dict(zip(fechas,fechas_ts))\n",
    "        \n",
    "cd2 = cd.rename(columns = Diccionario_cambiolistas,inplace = False)##si inplace =True\n"
   ]
  },
  {
   "cell_type": "code",
   "execution_count": null,
   "metadata": {},
   "outputs": [],
   "source": [
    "covidR = cd2.groupby(by=\"Country/Region\").aggregate(sum) ## Reduce la columna Province/State y suma los valores que tenian la misma region\n",
    "covidR"
   ]
  },
  {
   "cell_type": "code",
   "execution_count": null,
   "metadata": {},
   "outputs": [],
   "source": [
    "recuperados =pd.merge(covidR,cPoblacion, on='Country/Region')\n",
    "recuperados\n",
    "\n",
    "##los paises que no se le pudieron hacer merge fueron:\n",
    "## (Korea, South), (West Bank and Gaza), (US), (Taiwan), (Sao Tome and Principe), (Saint Vincent and the Grenadines)\n",
    "## (MS Zaandam), (Kosovo), (Diamond Princess), (Czechia), (Congo (Kinshasa)), (Congo (Brazzaville)),(Burma)"
   ]
  },
  {
   "cell_type": "code",
   "execution_count": null,
   "metadata": {},
   "outputs": [],
   "source": []
  },
  {
   "cell_type": "code",
   "execution_count": null,
   "metadata": {},
   "outputs": [],
   "source": [
    "cols = list(pd.read_csv(\"covid19_decesos.csv\", nrows =1))\n",
    "cd = pd.read_csv(\"covid19_decesos.csv\",\n",
    "            index_col = 'Country/Region' ,                             ## Asgina como indice \"Country/Region\"\n",
    "            usecols =[i for i in cols if (i != 'Long' and i != 'Lat')], ## Quitamos las columnas Long y Lat       \n",
    "            )"
   ]
  },
  {
   "cell_type": "code",
   "execution_count": null,
   "metadata": {},
   "outputs": [],
   "source": [
    "def listbody(A):\n",
    "            A.pop(0)\n",
    "            return A\n",
    "\n",
    "fechas = listbody(list(cd.columns.values))\n",
    "fechas_ts = []\n",
    "\n",
    "for i in fechas:\n",
    "        tiempoentimestamp = pd.to_datetime(i)\n",
    "        fechas_ts.append(tiempoentimestamp)\n",
    "        Diccionario_cambiolistas = dict(zip(fechas,fechas_ts))\n",
    "        \n",
    "cd2 = cd.rename(columns = Diccionario_cambiolistas,inplace = False)##si inplace =True"
   ]
  },
  {
   "cell_type": "code",
   "execution_count": null,
   "metadata": {},
   "outputs": [],
   "source": [
    "covidD = cd2.groupby(by=\"Country/Region\").aggregate(sum) ## Reduce la columna Province/State y suma los valores que tenian la misma region\n",
    "covidD"
   ]
  },
  {
   "cell_type": "code",
   "execution_count": null,
   "metadata": {
    "scrolled": true
   },
   "outputs": [],
   "source": [
    "decesos = pd.merge(covidD,cPoblacion, on='Country/Region')\n",
    "decesos\n",
    "\n",
    "##los paises que no se le pudieron hacer merge fueron:\n",
    "## (Korea, South), (West Bank and Gaza), (US), (Taiwan), (Sao Tome and Principe), (Saint Vincent and the Grenadines)\n",
    "## (MS Zaandam), (Kosovo), (Diamond Princess), (Czechia), (Congo (Kinshasa)), (Congo (Brazzaville)),(Burma)"
   ]
  },
  {
   "cell_type": "raw",
   "metadata": {},
   "source": [
    "1) Obtenga la cantidad total a la fecha (26 de Abril) de los casos (a) confirmados, (b) cerrados (recuperados más decesos) y (c) activos (confirmados menos cerrados) por país. En base a estas cantidades calcule el porcentaje de\n",
    "\n",
    "    a)casos activos con respecto al total de confirmados\n",
    "    b)decesos con respecto al total de casos cerrados\n",
    "    c)recuperados con respecto al total de casos cerrados\n",
    "    \n",
    "## Dado a que los datos llegan a 2021-04-25, supondremos que esos son los casos que estarian en la fecha del 26 de abril, ya que obviamente no estarian los datos del mismo 26 de abril.\n"
   ]
  },
  {
   "cell_type": "code",
   "execution_count": null,
   "metadata": {},
   "outputs": [],
   "source": [
    "abril26 = pd.Timestamp('2021-04-25 00:00:00')"
   ]
  },
  {
   "cell_type": "code",
   "execution_count": null,
   "metadata": {},
   "outputs": [],
   "source": [
    "cf = confirmados.filter([abril26])\n",
    "rf = recuperados.filter([abril26])\n",
    "df = decesos.filter([abril26])\n",
    "\n",
    "temp = pd.merge(rf,df, on='Country/Region')\n",
    "temp[abril26] = (temp['2021-04-25 00:00:00_x'] + temp['2021-04-25 00:00:00_y'])\n",
    "cerrados = temp.drop(['2021-04-25 00:00:00_x', '2021-04-25 00:00:00_y'], axis=1)\n",
    "\n",
    "temp = pd.merge(cf,cerrados, on='Country/Region')\n",
    "temp[abril26] = temp['2021-04-25 00:00:00_x'] - temp['2021-04-25 00:00:00_y']\n",
    "activos = temp.drop(['2021-04-25 00:00:00_x', '2021-04-25 00:00:00_y'], axis=1)\n",
    "\n"
   ]
  },
  {
   "cell_type": "code",
   "execution_count": null,
   "metadata": {},
   "outputs": [],
   "source": [
    "## A) el casos de activos con respecto al total de confirmados por pais es:\n",
    "\n",
    "temp = pd.merge(cf,activos, on='Country/Region')\n",
    "temp[abril26] = (temp['2021-04-25 00:00:00_x'] - temp['2021-04-25 00:00:00_y']) * 100 / (temp['2021-04-25 00:00:00_x'])\n",
    "activosP = temp.drop(['2021-04-25 00:00:00_x', '2021-04-25 00:00:00_y'], axis=1)\n",
    "activosP"
   ]
  },
  {
   "cell_type": "code",
   "execution_count": null,
   "metadata": {},
   "outputs": [],
   "source": [
    "## B) cantidad de decesos con respecto al total de casos cerrados\n",
    "\n",
    "\n",
    "temp = pd.merge(cerrados,df, on='Country/Region')\n",
    "temp[abril26] = (temp['2021-04-25 00:00:00_x'] - temp['2021-04-25 00:00:00_y']) * 100 / (temp['2021-04-25 00:00:00_x'])\n",
    "decesosP = temp.drop(['2021-04-25 00:00:00_x', '2021-04-25 00:00:00_y'], axis=1)\n",
    "decesosP"
   ]
  },
  {
   "cell_type": "code",
   "execution_count": null,
   "metadata": {},
   "outputs": [],
   "source": [
    "## C) cantidad de recuperados con respecto al total de casos cerrados\n",
    "\n",
    "temp = pd.merge(cerrados,rf, on='Country/Region')\n",
    "temp[abril26] = (temp['2021-04-25 00:00:00_x'] - temp['2021-04-25 00:00:00_y']) * 100 / (temp['2021-04-25 00:00:00_x'])\n",
    "recuperadoP = temp.drop(['2021-04-25 00:00:00_x', '2021-04-25 00:00:00_y'], axis=1)\n",
    "recuperadoP"
   ]
  },
  {
   "cell_type": "raw",
   "metadata": {},
   "source": [
    "2)Luego calcule las siguientes tasas en base a información a la fecha\n",
    "\n",
    "    a)Tasa de incidencia: confirmados por 100.000 dividido población total\n",
    "    b)Tasa de recuperación: recuperados por 100.000 dividido población total\n",
    "    c)Tasa de mortalidad: decesos por 100.000 dividido población total\n"
   ]
  },
  {
   "cell_type": "code",
   "execution_count": null,
   "metadata": {},
   "outputs": [],
   "source": [
    "cf = confirmados.filter([abril26, 'Population (2020)'])\n",
    "rf = recuperados.filter([abril26, 'Population (2020)'])\n",
    "df = decesos.filter([abril26, 'Population (2020)'])\n",
    "\n",
    "## A)Tasa de incidencia:\n",
    "\n",
    "cf['Incidencia'] = cf[abril26] * 100000 / (cf['Population (2020)'])\n",
    "cf"
   ]
  },
  {
   "cell_type": "code",
   "execution_count": null,
   "metadata": {},
   "outputs": [],
   "source": [
    "## B) Tasa de recuperacion:\n",
    "\n",
    "rf['Recuperacion'] = rf[abril26] * 100000 / (rf['Population (2020)'])\n",
    "rf\n"
   ]
  },
  {
   "cell_type": "code",
   "execution_count": null,
   "metadata": {},
   "outputs": [],
   "source": [
    "## C) Tasa de mortalidad:\n",
    "\n",
    "df['Mortalidad'] = df[abril26] * 100000 / (df['Population (2020)'])\n",
    "df"
   ]
  },
  {
   "cell_type": "raw",
   "metadata": {},
   "source": [
    "3)En base a lo anterior muestre los nombres y los valores de los 5 países con\n",
    "\n",
    "    a)La mayor y menor tasa de incidencia, respectivamente\n",
    "    b)La mayor y menor tasa de recuperación, respectivamente\n",
    "    c)La mayor y menor tasa de mortalidad, respectivamente\n",
    "    \n",
    "Primero ordenaremos\n"
   ]
  },
  {
   "cell_type": "code",
   "execution_count": null,
   "metadata": {},
   "outputs": [],
   "source": [
    "inci = cf.sort_values(by='Incidencia', ascending=False)\n",
    "inci\n"
   ]
  },
  {
   "cell_type": "raw",
   "metadata": {},
   "source": [
    "Los 5 paises con mayor tasa de incidencia:\n",
    "\n",
    "Andorra    16898.055300\n",
    "Montenegro 15389.759266\n",
    "San Marino 14868.607118\n",
    "Slovenia   11401.118524\n",
    "Luxembourg 10515.625199\n",
    "\n",
    "Los 5 paises con menor tasa de incidencia:\n",
    "\n",
    "Solomon Islands\t2.899933\n",
    "Samoa           1.510247\n",
    "Vanuatu         1.297282\n",
    "Micronesia      0.867822\n",
    "Tanzania        0.848158"
   ]
  },
  {
   "cell_type": "code",
   "execution_count": null,
   "metadata": {},
   "outputs": [],
   "source": [
    "recu = rf.sort_values(by='Recuperacion', ascending=False)\n",
    "recu"
   ]
  },
  {
   "cell_type": "raw",
   "metadata": {},
   "source": [
    "Los 5 paises con mayor tasa de Recuperacion:\n",
    "\n",
    "Andorra \t16161.838343\n",
    "Montenegro \t14744.777735\n",
    "San Marino \t14255.833137\n",
    "Slovenia \t10695.487085\n",
    "Luxembourg \t9906.420861\n",
    "\n",
    "Los 5 paises con menor tasa de Recuperacion:\n",
    "\n",
    "Laos \t    0.671827\n",
    "Tanzania    0.304937\n",
    "Sweden \t    0.000000\n",
    "Belgium     0.000000\n",
    "Serbia \t    0.000000"
   ]
  },
  {
   "cell_type": "code",
   "execution_count": null,
   "metadata": {},
   "outputs": [],
   "source": [
    "mort = df.sort_values(by='Mortalidad', ascending=False)\n",
    "mort"
   ]
  },
  {
   "cell_type": "raw",
   "metadata": {},
   "source": [
    "Los 5 paises con mayor tasa de Mortalidad:\n",
    "\n",
    "Hungary \t             275.735780\n",
    "San Marino \t             262.196559\n",
    "Bosnia and Herzegovina \t 250.308805\n",
    "Montenegro               233.250541\n",
    "Bulgaria \t             229.239930\n",
    "\n",
    "Los 5 paises con menor tasa de Mortalidad:\n",
    "\n",
    "Solomon Islands \t    0.000000\n",
    "Laos \t                0.000000\n",
    "Marshall Islands        0.000000\n",
    "Micronesia \t            0.000000\n",
    "Dominica \t            0.000000"
   ]
  },
  {
   "cell_type": "raw",
   "metadata": {},
   "source": [
    "4)Responda, analice y discuta: ¿En qué lugar/ranking se encuentra Chile con respecto a cada una de las métricas de los puntos anteriores? ¿A qué países de la OCDE se parece más? ¿A qué paises de latinoamérica se parece más?\n",
    "\n",
    "Dado a que el primer valor de las columnas se incializa con cero entonces se le suma 1, para saber su lugar"
   ]
  },
  {
   "cell_type": "code",
   "execution_count": null,
   "metadata": {},
   "outputs": [],
   "source": [
    "act = activosP.sort_values(by=abril26, ascending=False)\n",
    "rec = recuperadoP.sort_values(by=abril26, ascending=False)\n",
    "dec = decesosP.sort_values(by=abril26, ascending=False)"
   ]
  },
  {
   "cell_type": "code",
   "execution_count": null,
   "metadata": {},
   "outputs": [],
   "source": []
  },
  {
   "cell_type": "code",
   "execution_count": null,
   "metadata": {},
   "outputs": [],
   "source": [
    "pais=\"Chile\"\n",
    "print(\"Las posiciones de Chile con respecto a los individuos activos, recuperados y decesos por porcentaje son: \")\n",
    "print(act.index.get_loc(pais) + 1 , rec.index.get_loc(pais) + 1, dec.index.get_loc(pais) + 1)\n",
    "print(\"Las posiciones de Chile con respecto a la tasa de incidencia, recuperacion y de mortalidad son: \")\n",
    "print(inci.index.get_loc(pais) + 1 , recu.index.get_loc(pais) + 1, mort.index.get_loc(pais) + 1)"
   ]
  },
  {
   "cell_type": "raw",
   "metadata": {},
   "source": [
    "Con lo anterior, tenemos que Chile esta en los lugares 49, 73 y 105 de los paises con mas activos porcentuales, recuperados porcentuales y decesos porcentuales respectivamente, ademas esta en los lugares 40, 27 y 30 de los paises con mas incidencia, recuperados y mortalidad respectivamente."
   ]
  },
  {
   "cell_type": "code",
   "execution_count": null,
   "metadata": {},
   "outputs": [],
   "source": [
    "pais=\"Austria\"\n",
    "print(\"Las posiciones de Austria con respecto a los individuos activos, recuperados y decesos por porcentaje son: \")\n",
    "print(act.index.get_loc(pais) + 1 , rec.index.get_loc(pais) + 1, dec.index.get_loc(pais) + 1)\n",
    "print(\"Las posiciones de Austria con respecto a la tasa de incidencia, recuperacion y de mortalidad son: \")\n",
    "print(inci.index.get_loc(pais) + 1 , recu.index.get_loc(pais) + 1, mort.index.get_loc(pais) + 1)\n"
   ]
  },
  {
   "cell_type": "raw",
   "metadata": {},
   "source": [
    "Por otra parte, por lo que se comparo con los demas paises, los paises con mayor parecido a chile de la OCDE es principalmente austria.\n",
    "Austria, el cual tiene puestos en los rankings muy parecido a los de chile, en todo aspecto, tienen una leve mejoria en todos los ambitos porcentuales, pero no lo supera por una gran cantidad de puestos, por lo tanto, afirmamos que austria es el mas parecido que se ha encontrado, dado que por estadistica son bastante similares, los demas paises de la OCDE tienden a tener una gran tendencia a superarlos en algun ambito o estar completamente por debajo, como minimo en dos secciones."
   ]
  },
  {
   "cell_type": "code",
   "execution_count": null,
   "metadata": {},
   "outputs": [],
   "source": [
    "pais=\"Colombia\"\n",
    "print(\"Las posiciones de Colombia con respecto a los individuos activos, recuperados y decesos por porcentaje son: \")\n",
    "print(act.index.get_loc(pais) + 1 , rec.index.get_loc(pais) + 1, dec.index.get_loc(pais) + 1)\n",
    "print(\"Las posiciones de Colombia con respecto a la tasa de incidencia, recuperacion y de mortalidad son: \")\n",
    "print(inci.index.get_loc(pais) + 1 , recu.index.get_loc(pais) + 1, mort.index.get_loc(pais) + 1)\n"
   ]
  },
  {
   "cell_type": "code",
   "execution_count": null,
   "metadata": {},
   "outputs": [],
   "source": [
    "pais=\"Brazil\"\n",
    "print(\"Las posiciones de Brazil con respecto a los individuos activos, recuperados y decesos por porcentaje son: \")\n",
    "print(act.index.get_loc(pais) + 1 , rec.index.get_loc(pais) + 1, dec.index.get_loc(pais) + 1)\n",
    "print(\"Las posiciones de Brazil con respecto a la tasa de incidencia, recuperacion y de mortalidad son: \")\n",
    "print(inci.index.get_loc(pais) + 1 , recu.index.get_loc(pais) + 1, mort.index.get_loc(pais) + 1)\n"
   ]
  },
  {
   "cell_type": "raw",
   "metadata": {},
   "source": [
    "Segun lo investigado los mas parecidos son Brazil y Colombia, los cuales presentan un ranking muy parecido ante Chile.\n",
    "Brazil tiene unos ranking muy parecidos aunque varian un poco en el porcentaje de activos y la tasa de mortalidad, por otro lado el que presenta la mayor similitud en latinoamerica seria colombia, ya que en el unico lugar donde se presenta una variacion es en el porcentaje de recuperados, por unos 39 puestos, pero lo demas es tan similar, que podriamos decir que estan en el mismo \"STATUS\"."
   ]
  },
  {
   "cell_type": "markdown",
   "metadata": {},
   "source": [
    "\n",
    "Análisis temporal y comparativo (2.0pt)\n",
    "\n",
    "    Construya una interfaz gráfica usando ipywidgets y matplotlib que permita realizar comparaciones entre las series de tiempo de COVID-19 de dos países seleccionados arbitrariamente. A modo de simplificación considere sólo los países de la OCDE. Requerimientos:\n",
    "        La interfaz debe incluir controles para escoger dos países a partir de una lista\n",
    "        La interfaz debe incluir tres tabs, el primero debe mostrar las series de tiempo de ambos países de los casos confirmados, el segundo la de recuperados y el tercero la de los decesos, respectivamente. Use una leyenda para indicar el nombre de los países.\n",
    "        La interfaz debe tener un control que permita escoger entre casos acumulados y casos nuevos\n",
    "        La interfaz debe tener un control que permita escoger entre valores absolutos y valores relativos (tasas por 100.000 habitantes)\n",
    "        La interfaz debe tener un control que permita escoger entre valores diarios y valores semanales (acumulados). Para esto último se recomienda usar groupby con una frecuencia lunes a lunes\n",
    "\n",
    "En base a su interfaz:\n",
    "\n",
    "    Describa en detalle la situación de Chile con respecto a la evolución temporal de las series de tiempo. En particular destaque patrones y comportamientos que considere relevantes y compare lo que observa en las distintas series de tiempo. Considerando la evolución a nivel de semana, conteste ¿En qué fechas ocurre un aumento o disminución notoria de los casos? ¿En qué fechas hay máximos y mínimos?\n",
    "    Considerando métricas que sean relativas compare el caso de Chile contra cinco países de la OCDE seleccionados por ustedes. Destaque semejanzas y diferencias considerando las cantidades y los posibles desfases temporales existentes.\n",
    "\n"
   ]
  },
  {
   "cell_type": "code",
   "execution_count": null,
   "metadata": {},
   "outputs": [],
   "source": [
    "def casosdiarios(lista):\n",
    "    nuevalista = [lista[0]]\n",
    "    for i in range(1,460):\n",
    "        casodiario = int(lista[i]) - int(lista[i-1])\n",
    "        nuevalista.append(casodiario)\n",
    "    return nuevalista\n",
    "\n",
    "def tasa(matriz,lista):\n",
    "    for i in range(0,177):\n",
    "        for j in range(0,460):\n",
    "            numero=(float(lista[i]))\n",
    "            matriz[i][j]=(matriz[i][j])*100000\n",
    "            matriz[i][j]=matriz[i][j]/numero\n",
    "    return matriz\n",
    "\n",
    "def porcentaje(dataf):\n",
    "    if dataf == 'covidC' : utilizar = confirmados\n",
    "    elif dataf == 'covidR' : utilizar = recuperados\n",
    "    elif dataf == 'covidD' : utilizar = decesos\n",
    "    \n",
    "    indice_paises =(utilizar.index).tolist()\n",
    "    poblacion_porpais = (utilizar[\"Population (2020)\"]).tolist()\n",
    "    confirmados2 = utilizar.iloc[:,:-10]\n",
    "    matriz_confirmados = confirmados2.to_numpy()\n",
    "    lista_confirmados = matriz_confirmados.tolist()\n",
    "    matriz_pj_confirmados = tasa(lista_confirmados,poblacion_porpais)\n",
    "    numpy_pj_confirmados = np.array(matriz_pj_confirmados)\n",
    "    casos_confirmados_relativos = pd.DataFrame(matriz_pj_confirmados,columns = fechas_ts,index= indice_paises)\n",
    "    \n",
    "    return casos_confirmados_relativos\n",
    "\n",
    "def individual(dataf):\n",
    "        \n",
    "    indice_paises =(dataf.index).tolist()\n",
    "    confirmados2 = dataf.iloc[:,:-10]\n",
    "\n",
    "    matriz_confirmados = dataf.to_numpy()\n",
    "\n",
    "    lista_confirmados = matriz_confirmados.tolist()\n",
    "    for i in range(0,len(lista_confirmados)):\n",
    "        lista_confirmados[i] = casosdiarios(lista_confirmados[i])\n",
    "    nueva_matriz_confirmados = np.array(lista_confirmados)\n",
    "    casos_confirmados_diarios = pd.DataFrame(nueva_matriz_confirmados,columns = fechas_ts,index= indice_paises)\n",
    "    \n",
    "    return casos_confirmados_diarios\n",
    "\n",
    "def semanal(dataf):\n",
    "    fecha_linda = pd.date_range(pd.Timestamp('2020-01-22 00:00:00'), pd.Timestamp('2021-04-25 00:00:00'), freq=\"W-MON\")\n",
    "    fecha_lista = fecha_linda.tolist()\n",
    "    semanas = dataf.filter(fecha_lista)\n",
    "    return semanas\n",
    "\n",
    "def grafica(pais1,pais2,eleccion,casos,valores,tiempo):\n",
    "    if eleccion == 'covidC': \n",
    "        temp = covidC\n",
    "        eleccion = 'covidC'\n",
    "    elif eleccion == 'covidR': \n",
    "        temp = covidR\n",
    "        eleccion = 'covidR'\n",
    "    elif eleccion == 'covidD': \n",
    "        temp = covidD\n",
    "        eleccion = 'covidD'\n",
    "    \n",
    "\n",
    "    if valores == 'Relativos' : temp = porcentaje(eleccion)\n",
    "    if casos == 'Nuevos' : temp = individual(temp)\n",
    "    if tiempo == 'Semanales' : temp = semanal(temp)\n",
    "    \n",
    "    fig, ax = plt.subplots(figsize=(12, 8), tight_layout=True, facecolor='w')\n",
    "    ax.grid()\n",
    "    ax.plot(temp.loc[pais1], c='green', lw=3, alpha=0.8, label = pais1)\n",
    "    ax.plot(temp.loc[pais2], c='red', lw=3, alpha=0.8, label = pais2)\n",
    "\n",
    "    plt.legend([pais1, pais2] , loc = \"upper left\")\n",
    "\n",
    "    \n",
    "out1 = widgets.Output()\n",
    "out2 = widgets.Output()\n",
    "out3 = widgets.Output()\n",
    "\n",
    "tab = widgets.Tab(children = [out1, out2, out3])\n",
    "\n",
    "tab.set_title(0, 'Confirmados')\n",
    "tab.set_title(1, 'Recuperados')\n",
    "tab.set_title(2, 'Decesos')\n",
    "    \n",
    "\n",
    "with out1:\n",
    "    widgets.interact(grafica, \n",
    "             pais1=['Austria', 'Australia', 'Belgium', 'Canada','Chile','Colombia', 'Denmark', 'Estonia'\n",
    "             , 'Finland','France','Germany' ,'Greece', 'Hungary','Iceland', 'Israel','Ireland', 'Italy', 'Japan'\n",
    "             ,'Latvia','Lithuania','Luxembourg' , 'Mexico', 'Netherlands', 'New Zealand','Norway' \n",
    "             ,'Poland' , 'Portugal', 'Slovakia', 'Slovenia','Spain', 'Sweden', 'Turkey', 'United Kingdom']\n",
    "             ,      \n",
    "             pais2=['Austria', 'Australia', 'Belgium', 'Canada','Chile','Colombia', 'Denmark', 'Estonia'\n",
    "             , 'Finland','France','Germany' ,'Greece', 'Hungary','Iceland', 'Israel','Ireland', 'Italy', 'Japan'\n",
    "             ,'Latvia','Lithuania','Luxembourg' , 'Mexico', 'Netherlands', 'New Zealand','Norway' \n",
    "             ,'Poland' , 'Portugal', 'Slovakia', 'Slovenia','Spain', 'Sweden', 'Turkey', 'United Kingdom']\n",
    "             ,\n",
    "             eleccion='covidC'\n",
    "             ,\n",
    "             casos=['Acumulado','Nuevos']\n",
    "             ,\n",
    "             valores=['Absolutos', 'Relativos']\n",
    "             ,\n",
    "             tiempo=['Diarios','Semanales']\n",
    "             )\n",
    "with out2:\n",
    "    widgets.interact(grafica, \n",
    "             pais1=['Austria', 'Australia', 'Belgium', 'Canada','Chile','Colombia', 'Denmark', 'Estonia'\n",
    "             , 'Finland','France','Germany' ,'Greece', 'Hungary','Iceland', 'Israel','Ireland', 'Italy', 'Japan'\n",
    "             ,'Latvia','Lithuania','Luxembourg' , 'Mexico', 'Netherlands', 'New Zealand','Norway' \n",
    "             ,'Poland' , 'Portugal', 'Slovakia', 'Slovenia','Spain', 'Sweden', 'Turkey', 'United Kingdom']\n",
    "             ,      \n",
    "             pais2=['Austria', 'Australia', 'Belgium', 'Canada','Chile','Colombia', 'Denmark', 'Estonia'\n",
    "             , 'Finland','France','Germany' ,'Greece', 'Hungary','Iceland', 'Israel','Ireland', 'Italy', 'Japan'\n",
    "             ,'Latvia','Lithuania','Luxembourg' , 'Mexico', 'Netherlands', 'New Zealand','Norway' \n",
    "             ,'Poland' , 'Portugal', 'Slovakia', 'Slovenia','Spain', 'Sweden', 'Turkey', 'United Kingdom']\n",
    "             ,\n",
    "             eleccion='covidR'\n",
    "             ,\n",
    "             casos=['Acumulado','Nuevos']\n",
    "             ,\n",
    "             valores=['Absolutos', 'Relativos']\n",
    "             ,\n",
    "             tiempo=['Diarios','Semanales']\n",
    "             )\n",
    "with out3:\n",
    "    widgets.interact(grafica, \n",
    "             pais1=['Austria', 'Australia', 'Belgium', 'Canada','Chile','Colombia', 'Denmark', 'Estonia'\n",
    "             , 'Finland','France','Germany' ,'Greece', 'Hungary','Iceland', 'Israel','Ireland', 'Italy', 'Japan'\n",
    "             ,'Latvia','Lithuania','Luxembourg' , 'Mexico', 'Netherlands', 'New Zealand','Norway' \n",
    "             ,'Poland' , 'Portugal', 'Slovakia', 'Slovenia','Spain', 'Sweden', 'Turkey', 'United Kingdom']\n",
    "             ,      \n",
    "             pais2=['Austria', 'Australia', 'Belgium', 'Canada','Chile','Colombia', 'Denmark', 'Estonia'\n",
    "             , 'Finland','France','Germany' ,'Greece', 'Hungary','Iceland', 'Israel','Ireland', 'Italy', 'Japan'\n",
    "             ,'Latvia','Lithuania','Luxembourg' , 'Mexico', 'Netherlands', 'New Zealand','Norway' \n",
    "             ,'Poland' , 'Portugal', 'Slovakia', 'Slovenia','Spain', 'Sweden', 'Turkey', 'United Kingdom']\n",
    "             ,\n",
    "             eleccion='covidD'\n",
    "             ,\n",
    "             casos=['Acumulado','Nuevos']\n",
    "             ,\n",
    "             valores=['Absolutos', 'Relativos']\n",
    "             ,\n",
    "             tiempo=['Diarios','Semanales']\n",
    "             )\n",
    "\n",
    "tab\n",
    "##########################\n",
    "## NO TOCAR \"ELECCION\" ###\n",
    "##########################"
   ]
  },
  {
   "cell_type": "markdown",
   "metadata": {},
   "source": [
    "Desde las primeras fechas, chile no presenta un crecimiento muy alto de casos confirmados, y por lo tanto, no puede presentar decesos, ni recuperaciones altas. Sin embargo, en la fecha 2020-05 al 2020-07 Chile empieza a tener un gran crecimiento de casos de covid, lo cual es bastante alto a comparacion de otros paises de la OCDE que en estas fechas no presentan un nivel de confirmados de esta embergadura. Despues de este crecimiento bruzco, el crecimiento de los casos tanto como en confirmados, recuperados y decesos son constantes por lo que no presentan un crecimiento tan grande, almenos antes de llegar al año 2021, que es donde el crecimiento aumento el doble de lo usual, y esto conlleva que en la primera semana 2021-04, podemos observar otro crecimiento bruzco, mayor al de la fecha de 2020-05, casi un 50% mas que antes, esto esta bastante presente en los casos confirmados y recuperados.\n",
    "Por otro lado, hay que recalcar que lo dicho anteriormente se aplaza un mes cuando nos referimos a los decesos, dado a que deben estar confirmados como para que ocurra esto, y que el crecimiento bruzco no esta presente en los decesos, pero si el doble aumento de casos en las fechas de inicio del 2021.\n",
    "\n",
    "Con esto dicho podemos ver que en los 3 casos, tienen un comportamiento similar, primero crecen bastante, se mantienen con un crecimiento constante y luego vuelve los crecimientos bruzcos, si pudieramos inferir lo que ocurriria en las siguientes fechas, es que los meses siguientes tendriamos un crecimiento constante pero menor al actual.\n",
    "\n",
    "Con el grafico en semanas podemos ver que, en el mes 2020-05 al 2020-07 y desde el mes 2021-03, la cantidad de casos presenta un muy notorio crecimiento, aqui es donde presentan los pics maximo de casos confirmados. Y en contraparte tenemos que en la fecha de 2020-11 presenta una disminucion de los casos, la cual en la grafica solo podemos observar que ocurre una vez a una escala de reduccion tan alta, aunque el minimo solo esta presente al inicio de la grafica y los decliebes mas grandes estan la ultima semana del 2020-09 y el inicio 2020-12, las cuales son similares.\n",
    "\n",
    "Cuando observamos los casos de recuperados, tiende a tener una constante de casos por lo que aumentos y reducciones no hay muchas, pero existen perturbaciones donde nos muestran claramente el maximo y el minimo.\n",
    "En la fecha 2020-06 es donde mas aumento los casos de recuperacion y a su vez en la primera semana de este mes es donde estuvo el pic mas alto de recuperados, luego obtiene un aumento el 2021-03 el cual parece nos da una constante mas alta de recuperados, sin embargo, aqui hay dos pics, uno de reduccion y otro de aumento, el de aumento no fue la gran cosa ya que fue el pic mas pequeño, pero el de reduccion el cual ocurre la segunda semana de 2021-04 es el pic del minimo mas pequeño que ha ocurrido en todo el tiempo de la pandemia.\n",
    "\n",
    "Por ultimo en el caso de los decesos, tiene exactamente el mismo comportamiento que el de los recuperados, ya que las fechas de crecimiento son las mismas, pero tienen la diferencia que no los valores no son tan constante, sino que los casos son altos o son bajos, y esto nos lleva a ver que los pics de maximo y minimo si son distintos. El pic maximo de decesos fue en la tercera semana del 2020-07 el cual es realmente alto, almenos por parametros relativos, ya que no muchos paises tienen tales cifras, y en la contraparte del maximo, los minimos encontrados estan presentes en 3 fechas, la ultima semana de 2020-07 y en la ultima semana del 2020-12 y la primera del 2021-01, estos minimos no tienen una caracteristica muy diferenciada de otros minimos encontrados en la grafica, ya que la mayoria son similares, pero son los valores mas pequeños que se encontraron.\n"
   ]
  },
  {
   "cell_type": "markdown",
   "metadata": {},
   "source": [
    "Nosotros comparamos a Chile con los siguientes paises: Austria, Colombia, Irlanda, Suecia\n",
    "\n",
    "Empezaremos las comparaciones de Chile con la OCDE desde Austria, el cual era el pais de la OCDE con resultados similares en la ultima fecha vista.\n",
    "Podemos observar que el comportamiento de Austria en los 3 casos, es el mismo, todo estaba bien hasta la primera semana de Octubre que es donde los casos crecen abruptamente hasta la segunda semana de noviembre del 2020, que es donde esta el maximo valor que a registrado Austria, esto repercute en los casos de recuperados, el cual tiene una grafica basada en la anterior, lo que es algo postivo, pues se infiere que la mayoria se recupera, estas caracteristicas son contrarias a las de Chile, porque cuando Chile pudo estabilizarse con los casos Austria aumento y cuando Chile aumento Austria no sufria un cambio muy notorio.\n",
    "A diferencia de lo anterior si nos basamos en terminos de decesos, Austria tiene una menor tasa de estos, pues no tiene momentos pics de decesos como chile sino que tiene una cantidad de decesos mayormente constantes, y si lo vemos por porcentaje se nivelan las balanzas, ya que austria tiene menos de la mitas de la poblacion chilena, esto tambien se comparte en los demas casos, pero no es apreciable sino hasta el final de la grafica especificamente las ultimas semanas de diciembre de 2020, donde tienen ya un comportamiento similar.\n",
    "\n",
    "Podemos ver que Chile tiene una mayor tasa de contagios relativos que Colombia, se puede ver que chile empezo a estabilizarse en julio de 2020, pero Colombia tuvo un aumento abrupto, en el cual logro igualar a chile, hasta finalmente quedar con valores parecidos.\n",
    "Por lo que diriamos que Colombia esta por debajo de chile en terminos de como han tratado con la pandemia en este ultimo tiempo, ya que su numero de contagios aumento mucho en poco tiempo.\n",
    "en terminos de recuperados, chile lo supera.\n",
    "Y en decesos, chile logro estabilizarse mientras, que colombia sube mucho en su grafica.\n",
    "\n",
    "Con Irlanda podemos ver que con respecto a contagios, empezo mejor que chile, pero debido a una subida exponencial quedo igual a Chile en enero, y estuvo con resultados parecidos durante 3 meses, pero mientras que irlanda a logrado estabilizarse luego de marzo, chile sigue aumentando en la tabla recuperados, se ve que irlanda tiene un indice de recuperacion extremamente bajo en decesos y este mismo tuvo un una subida exponencial en enero, esto podria deberse al invierno en irlanda, ya que despues la cifra se regulo.\n",
    "\n",
    "Lo comparamos con Japon debido, a las diferecias entre los paises, por ejemplo la poblacion de japon es mas de 5 veces mas grande que la de chile, y el territorio es casi la mitad que la de chile.\n",
    "Y como vemos la grafica nos muestra una cantidad de confirmados muy menor a la de chile, si incluso usaramos casos diarios en vez de relativos la grafica sigue siendo menor.\n",
    "La grafica de recuperados la domina chile debido a la cantidad de confirmados en primera instancia hace que puedan haber mas recuperados.\n",
    "La grafica de decesos igual la domina chile por la misma razon anterior, concluyendo que chile esta por debajo en todo aspecto sanitario con japon, actualmente.\n",
    "\n",
    "Suecia presenta un cambio bruzco en la grafica, ya que en los casos confirmados se ve que desde 2020-11, empieza a tener un cambio significativo con sus valores, el cual en un plazo aproximado de 6 semanas ya llega a los mismos porcentajes que Chile, y luego aumenta los casos a una velocidad dos veces mas grande que la de Chile.\n",
    "En lo que se trata de recuperados, se observa que en los datos registrados que suecia no presenta datos realistas de recuperados O simplemente se infiere que persona que se contagia fallece, lo cual vemos inviable.\n",
    "En la tasa de decesos observamos que suecia presenta una tasa mayor de casos en los principios de la pandemia, ya que aunque la acumulacion siga subiendo, a diferencia de Chile suecia tiene un indice de decesos bajo desde la segunda semana del 2020-05, siendo que chile a partir de 2020-06 hacia adelante los decesos presentan un pics muy altos.\n"
   ]
  },
  {
   "cell_type": "code",
   "execution_count": null,
   "metadata": {},
   "outputs": [],
   "source": []
  }
 ],
 "metadata": {
  "celltoolbar": "Attachments",
  "kernelspec": {
   "display_name": "Python 3",
   "language": "python",
   "name": "python3"
  },
  "language_info": {
   "codemirror_mode": {
    "name": "ipython",
    "version": 3
   },
   "file_extension": ".py",
   "mimetype": "text/x-python",
   "name": "python",
   "nbconvert_exporter": "python",
   "pygments_lexer": "ipython3",
   "version": "3.8.3"
  }
 },
 "nbformat": 4,
 "nbformat_minor": 4
}
